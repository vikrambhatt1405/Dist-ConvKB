{
 "cells": [
  {
   "cell_type": "code",
   "execution_count": 2,
   "metadata": {},
   "outputs": [],
   "source": [
    "import random\n",
    "import re\n",
    "def split_huge_file(file,out1,percentage=0.0568181818,seed=123):\n",
    "    random.seed(seed)\n",
    "    with open(file, 'r',encoding=\"utf-8\") as fin, \\\n",
    "         open(out1, 'w') as foutBig, open('entity2id.txt','w') as en2id, open('relation2id.txt','w') as rel2id:\n",
    "        entity2id=set()\n",
    "        relation2id=set()\n",
    "        for line in fin:\n",
    "            r = random.random()\n",
    "            if re.match(\"^/m/[a-zA-Z0-9_]*\\t.*\\t/m/[a-zA-Z0-9_]*\",line):\n",
    "                a=line.split(\"\\t\")\n",
    "                if r < percentage:\n",
    "                    foutBig.write(line)\n",
    "                    entity2id.add(a[0])\n",
    "                    entity2id.add(a[2])\n",
    "                    relation2id.add(a[1])\n",
    "        for inx, rel in enumerate(relation2id):\n",
    "            rel2id.write(str(rel)+\"\\t\"+str(inx)+\"\\n\")\n",
    "        for inx, ent in enumerate(entity2id):\n",
    "            en2id.write(str(ent)+\"\\t\"+str(inx)+\"\\n\")"
   ]
  },
  {
   "cell_type": "code",
   "execution_count": 3,
   "metadata": {},
   "outputs": [],
   "source": [
    "split_huge_file(\"train.txt\",\"train_1GB.txt\")"
   ]
  },
  {
   "cell_type": "code",
   "execution_count": 4,
   "metadata": {},
   "outputs": [],
   "source": [
    "def split_small_file(file,out1,out2,percentage=0.8,seed=123):\n",
    "    random.seed(seed)\n",
    "    with open(file, 'r',encoding=\"utf-8\") as fin, \\\n",
    "         open(out1, 'w') as foutBig,open(out2, 'w') as foutsmall:\n",
    "        for line in fin:\n",
    "            r = random.random()\n",
    "            a=line.split(\"\\t\")\n",
    "            if r < percentage:\n",
    "                foutBig.write(line)\n",
    "            else:\n",
    "                foutsmall.write(line)"
   ]
  },
  {
   "cell_type": "code",
   "execution_count": 5,
   "metadata": {},
   "outputs": [],
   "source": [
    "split_small_file(\"train_1GB.txt\",\"train_dataset_1GB.txt\",\"test_dataset_1GB.txt\")"
   ]
  },
  {
   "cell_type": "code",
   "execution_count": 6,
   "metadata": {},
   "outputs": [],
   "source": [
    "def split_small_file1(file,out1,out2,percentage=0.5,seed=123):\n",
    "    random.seed(seed)\n",
    "    with open(file, 'r',encoding=\"utf-8\") as fin, \\\n",
    "         open(out1, 'w') as foutBig,open(out2, 'w') as foutsmall:\n",
    "        for line in fin:\n",
    "            r = random.random()\n",
    "            a=line.split(\"\\t\")\n",
    "            if r < percentage:\n",
    "                foutBig.write(line)\n",
    "            else:\n",
    "                foutsmall.write(line)"
   ]
  },
  {
   "cell_type": "code",
   "execution_count": 7,
   "metadata": {},
   "outputs": [],
   "source": [
    "split_small_file1(\"test_dataset_1GB.txt\",\"test_1GB.txt\",\"valid_1GB.txt\")"
   ]
  }
 ],
 "metadata": {
  "kernelspec": {
   "display_name": "Python 3",
   "language": "python",
   "name": "python3"
  },
  "language_info": {
   "codemirror_mode": {
    "name": "ipython",
    "version": 3
   },
   "file_extension": ".py",
   "mimetype": "text/x-python",
   "name": "python",
   "nbconvert_exporter": "python",
   "pygments_lexer": "ipython3",
   "version": "3.6.7"
  }
 },
 "nbformat": 4,
 "nbformat_minor": 2
}
